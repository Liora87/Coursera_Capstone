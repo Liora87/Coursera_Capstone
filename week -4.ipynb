{
    "nbformat_minor": 1, 
    "cells": [
        {
            "source": "# Capstone Project Requirement\n\nNow that you have been equipped with the skills and the tools to use location data to explore a geographical location, over the course of two weeks, you will have the opportunity to be as creative as you want and come up with an idea to leverage the Foursquare location data to explore or compare neighborhoods or cities of your choice or to come up with a problem that you can use the Foursquare location data to solve. If you cannot think of an idea or a problem, here are some ideas to get you started:\n\n1. In Module 3, we explored New York City and the city of Toronto and segmented and clustered their neighborhoods. Both cities are very diverse and are the financial capitals of their respective countries. One interesting idea would be to compare the neighborhoods of the two cities and determine how similar or dissimilar they are. Is New York City more like Toronto or Paris or some other multicultural city? I will leave it to you to refine this idea.\n\n\n\n2. In a city of your choice, if someone is looking to open a restaurant, where would you recommend that they open it? Similarly, if a contractor is trying to start their own business, where would you recommend that they setup their office?\n\n\nThese are just a couple of many ideas and problems that can be solved using location data in addition to other datasets. No matter what you decide to do, make sure to provide sufficient justification of why you think what you want to do or solve is important and why would a client or a group of people be interested in your project.\n\n# 1. Purpose\n\nThis report provides the details of my final peer reviewed assignment for the IBM Data Science Professional Certificate Program- Coursera Capstone.\n\n# 2. Introduction\n\nSingapore, an island city-state off southern Malaysia, is a global financial centre with a tropical climate and multicultural population. According to the United Nations World Bank Statistics, the city-state has a total population of 5.61 million in 2017. Accoring to the Housing and Development Board(HDB), 3.25 million people in Singapore live in HDB flats. Public housing also known as HDBs which has a lease of 99 years are managed by the HDB. Due to her small land size, prices of public flats have soared to record levels. As a result, this has led to increase in price of rentals over the years. \n\nIn this report, we will attempt to apply data analysis methodologies to analyse Singapore's Property Market and as well as its correlation to the amneties in its surrounding.\nThese amnetites can be broken down into:\n- Nearby Schools\n- Transport Facilities\n- Food locations \n- Outdoors and recreation\n\nI will limit the scope of this search as FourSquare API only allows 50 free venue query limit per day when using a free user access\n\n\nThis report is suitable for foreign workers, tourists or property owners who wish to understand about the various town and ameneties within the area.\n\n# 3. Data Acquisition\n\n### Singapore Towns and Median residential rental prices\nProperty prices, median rent by town and flat type data will be retrieved from Singapore open dataset from https://data.gov.sg/\n\n### Singapore Top Venue Recommendations from FourSquare API\nLocation information will be parsed from https://www.foursquare.com\n\nI will be using the FourSquare API to explore neighbourhoods in Singapore. The FourSquare explore function will be used to get the most common venue categories in each neighbourhood, and then use this feature to group the neighbourhoods into clusters. The following information are retrieved on the first query: \n\n- Venue ID\n- Venue Name\n- Coordinates: Latitude and Longitude\n- Category Name\n\nThe second query will be performed to retrieve venue ratings for each location identified. \n\n## 4. Methodology\n\nSingapore Towns List with median residential rent\n1. Data cleanup/preprocessing\n2. Retrieve Town Coordinates\n3. Generate Singapore basemap\n4. Retrieving FourSquare places of interest\n5. Exploring Neighbourhood in Singapore\n6. Data cleanup on duplicates and removing ratings with no ratings\n7. Analyse each Singapore town\n8. Clustering the towns into clusters\n9. Data Visualisation\n", 
            "cell_type": "markdown", 
            "metadata": {}
        }, 
        {
            "source": "", 
            "cell_type": "code", 
            "metadata": {}, 
            "outputs": [], 
            "execution_count": null
        }
    ], 
    "metadata": {
        "kernelspec": {
            "display_name": "Python 3.5", 
            "name": "python3", 
            "language": "python"
        }, 
        "language_info": {
            "mimetype": "text/x-python", 
            "nbconvert_exporter": "python", 
            "version": "3.5.5", 
            "name": "python", 
            "pygments_lexer": "ipython3", 
            "file_extension": ".py", 
            "codemirror_mode": {
                "version": 3, 
                "name": "ipython"
            }
        }
    }, 
    "nbformat": 4
}