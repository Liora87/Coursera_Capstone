{
    "nbformat_minor": 1, 
    "cells": [
        {
            "source": "\nimport numpy as np \nimport pandas as pd\nfrom bs4 import BeautifulSoup\nimport requests", 
            "cell_type": "code", 
            "metadata": {}, 
            "outputs": [], 
            "execution_count": 1
        }, 
        {
            "source": "wiki_url='https://en.wikipedia.org/wiki/List_of_postal_codes_of_Canada:_M'\n\nraw_wiki= requests.get(wiki_url).text\nsoup = BeautifulSoup(raw_wiki,'html5lib')", 
            "cell_type": "code", 
            "metadata": {}, 
            "outputs": [], 
            "execution_count": 2
        }, 
        {
            "source": "table=soup.find('table')", 
            "cell_type": "code", 
            "metadata": {}, 
            "outputs": [], 
            "execution_count": 3
        }, 
        {
            "source": "Postcode= []\nBorough= []\nNeighbourhood = []", 
            "cell_type": "code", 
            "metadata": {}, 
            "outputs": [], 
            "execution_count": 4
        }, 
        {
            "source": "x=0 #counter\nfor table_cell in table.find_all('td'):\n    \n    x = x+1\n    if (x==1):\n        postal_code = table_cell.text\n    elif (x==2):\n        borough = table_cell.text\n    elif (x==3):\n        neighborhoods_data = table_cell.text\n        neighborhoods = neighborhoods_data.strip('\\n')\n        x=0 #reset counter\n                             \n        if borough == 'Not assigned':            \n            borough = []\n            neighborhoods_data=[]\n        else:\n            if neighborhoods == 'Not assigned':\n                neighborhoods = borough\n             \n            Postcode.append(postal_code)\n            Borough.append(borough)\n            Neighbourhood.append(neighborhoods)", 
            "cell_type": "code", 
            "metadata": {}, 
            "outputs": [], 
            "execution_count": 5
        }, 
        {
            "source": "data=[]\n\nfor postcode_unique_element in set(Postcode):\n    post_value = ''\n    borough_value_var = ''\n    neighbourhood_value = ''\n    \n    for postcode_idx, postcode_element in enumerate(Postcode):\n        if postcode_unique_element == postcode_element:\n            post_value = postcode_element;\n            borough_value_var = Borough[postcode_idx]\n            \n            if neighbourhood_value == '': \n                neighbourhood_value = Neighbourhood[postcode_idx]\n            else:\n                neighbourhood_value = neighbourhood_value + ', ' + Neighbourhood[postcode_idx]\n    \n    data.append([post_value,borough_value_var,neighbourhood_value])\n\ndf = pd.DataFrame(np.array(data),columns=['PostalCode', 'Borough', 'Neighborhood'])\ndf.head(14)", 
            "cell_type": "code", 
            "metadata": {}, 
            "outputs": [
                {
                    "output_type": "execute_result", 
                    "data": {
                        "text/html": "<div>\n<style scoped>\n    .dataframe tbody tr th:only-of-type {\n        vertical-align: middle;\n    }\n\n    .dataframe tbody tr th {\n        vertical-align: top;\n    }\n\n    .dataframe thead th {\n        text-align: right;\n    }\n</style>\n<table border=\"1\" class=\"dataframe\">\n  <thead>\n    <tr style=\"text-align: right;\">\n      <th></th>\n      <th>PostalCode</th>\n      <th>Borough</th>\n      <th>Neighborhood</th>\n    </tr>\n  </thead>\n  <tbody>\n    <tr>\n      <th>0</th>\n      <td>M1R</td>\n      <td>Scarborough</td>\n      <td>Maryvale, Wexford</td>\n    </tr>\n    <tr>\n      <th>1</th>\n      <td>M9W</td>\n      <td>Etobicoke</td>\n      <td>Northwest</td>\n    </tr>\n    <tr>\n      <th>2</th>\n      <td>M6P</td>\n      <td>West Toronto</td>\n      <td>High Park, The Junction South</td>\n    </tr>\n    <tr>\n      <th>3</th>\n      <td>M4A</td>\n      <td>North York</td>\n      <td>Victoria Village</td>\n    </tr>\n    <tr>\n      <th>4</th>\n      <td>M9M</td>\n      <td>North York</td>\n      <td>Emery, Humberlea</td>\n    </tr>\n    <tr>\n      <th>5</th>\n      <td>M4S</td>\n      <td>Central Toronto</td>\n      <td>Davisville</td>\n    </tr>\n    <tr>\n      <th>6</th>\n      <td>M1W</td>\n      <td>Scarborough</td>\n      <td>L'Amoreaux West</td>\n    </tr>\n    <tr>\n      <th>7</th>\n      <td>M9B</td>\n      <td>Etobicoke</td>\n      <td>Cloverdale, Islington, Martin Grove, Princess ...</td>\n    </tr>\n    <tr>\n      <th>8</th>\n      <td>M6K</td>\n      <td>West Toronto</td>\n      <td>Brockton, Exhibition Place, Parkdale Village</td>\n    </tr>\n    <tr>\n      <th>9</th>\n      <td>M8W</td>\n      <td>Etobicoke</td>\n      <td>Alderwood, Long Branch</td>\n    </tr>\n    <tr>\n      <th>10</th>\n      <td>M6G</td>\n      <td>Downtown Toronto</td>\n      <td>Christie</td>\n    </tr>\n    <tr>\n      <th>11</th>\n      <td>M4M</td>\n      <td>East Toronto</td>\n      <td>Studio District</td>\n    </tr>\n    <tr>\n      <th>12</th>\n      <td>M4G</td>\n      <td>East York</td>\n      <td>Leaside</td>\n    </tr>\n    <tr>\n      <th>13</th>\n      <td>M4J</td>\n      <td>East York</td>\n      <td>East Toronto</td>\n    </tr>\n  </tbody>\n</table>\n</div>", 
                        "text/plain": "   PostalCode           Borough  \\\n0         M1R       Scarborough   \n1         M9W         Etobicoke   \n2         M6P      West Toronto   \n3         M4A        North York   \n4         M9M        North York   \n5         M4S   Central Toronto   \n6         M1W       Scarborough   \n7         M9B         Etobicoke   \n8         M6K      West Toronto   \n9         M8W         Etobicoke   \n10        M6G  Downtown Toronto   \n11        M4M      East Toronto   \n12        M4G         East York   \n13        M4J         East York   \n\n                                         Neighborhood  \n0                                   Maryvale, Wexford  \n1                                           Northwest  \n2                       High Park, The Junction South  \n3                                    Victoria Village  \n4                                    Emery, Humberlea  \n5                                          Davisville  \n6                                     L'Amoreaux West  \n7   Cloverdale, Islington, Martin Grove, Princess ...  \n8        Brockton, Exhibition Place, Parkdale Village  \n9                              Alderwood, Long Branch  \n10                                           Christie  \n11                                    Studio District  \n12                                            Leaside  \n13                                       East Toronto  "
                    }, 
                    "execution_count": 6, 
                    "metadata": {}
                }
            ], 
            "execution_count": 6
        }, 
        {
            "source": "df.describe()", 
            "cell_type": "code", 
            "metadata": {}, 
            "outputs": [
                {
                    "output_type": "execute_result", 
                    "data": {
                        "text/html": "<div>\n<style scoped>\n    .dataframe tbody tr th:only-of-type {\n        vertical-align: middle;\n    }\n\n    .dataframe tbody tr th {\n        vertical-align: top;\n    }\n\n    .dataframe thead th {\n        text-align: right;\n    }\n</style>\n<table border=\"1\" class=\"dataframe\">\n  <thead>\n    <tr style=\"text-align: right;\">\n      <th></th>\n      <th>PostalCode</th>\n      <th>Borough</th>\n      <th>Neighborhood</th>\n    </tr>\n  </thead>\n  <tbody>\n    <tr>\n      <th>count</th>\n      <td>103</td>\n      <td>103</td>\n      <td>103</td>\n    </tr>\n    <tr>\n      <th>unique</th>\n      <td>103</td>\n      <td>11</td>\n      <td>103</td>\n    </tr>\n    <tr>\n      <th>top</th>\n      <td>M3L</td>\n      <td>North York</td>\n      <td>Kingsview Village, Martin Grove Gardens, Richv...</td>\n    </tr>\n    <tr>\n      <th>freq</th>\n      <td>1</td>\n      <td>24</td>\n      <td>1</td>\n    </tr>\n  </tbody>\n</table>\n</div>", 
                        "text/plain": "       PostalCode     Borough  \\\ncount         103         103   \nunique        103          11   \ntop           M3L  North York   \nfreq            1          24   \n\n                                             Neighborhood  \ncount                                                 103  \nunique                                                103  \ntop     Kingsview Village, Martin Grove Gardens, Richv...  \nfreq                                                    1  "
                    }, 
                    "execution_count": 7, 
                    "metadata": {}
                }
            ], 
            "execution_count": 7
        }, 
        {
            "source": "", 
            "cell_type": "code", 
            "metadata": {}, 
            "outputs": [], 
            "execution_count": null
        }
    ], 
    "metadata": {
        "kernelspec": {
            "display_name": "Python 3.5", 
            "name": "python3", 
            "language": "python"
        }, 
        "language_info": {
            "mimetype": "text/x-python", 
            "nbconvert_exporter": "python", 
            "version": "3.5.5", 
            "name": "python", 
            "file_extension": ".py", 
            "pygments_lexer": "ipython3", 
            "codemirror_mode": {
                "version": 3, 
                "name": "ipython"
            }
        }
    }, 
    "nbformat": 4
}