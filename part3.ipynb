{
    "nbformat_minor": 1, 
    "cells": [
        {
            "execution_count": 2, 
            "cell_type": "code", 
            "metadata": {}, 
            "outputs": [], 
            "source": "import numpy as np \nimport pandas as pd\nfrom bs4 import BeautifulSoup\nimport requests"
        }, 
        {
            "execution_count": 3, 
            "cell_type": "code", 
            "metadata": {}, 
            "outputs": [], 
            "source": "wiki_url='https://en.wikipedia.org/wiki/List_of_postal_codes_of_Canada:_M'\n\nraw_wiki= requests.get(wiki_url).text\nsoup = BeautifulSoup(raw_wiki,'html5lib')"
        }, 
        {
            "execution_count": 4, 
            "cell_type": "code", 
            "metadata": {}, 
            "outputs": [], 
            "source": "table=soup.find('table')"
        }, 
        {
            "execution_count": 5, 
            "cell_type": "code", 
            "metadata": {}, 
            "outputs": [], 
            "source": "Postcode= []\nBorough= []\nNeighbourhood = []"
        }, 
        {
            "execution_count": 6, 
            "cell_type": "code", 
            "metadata": {}, 
            "outputs": [], 
            "source": "x=0 #counter\nfor table_cell in table.find_all('td'):\n    \n    x = x+1\n    if (x==1):\n        postal_code = table_cell.text\n    elif (x==2):\n        borough = table_cell.text\n    elif (x==3):\n        neighborhoods_data = table_cell.text\n        neighborhoods = neighborhoods_data.strip('\\n')\n        x=0 #reset counter\n                             \n        if borough == 'Not assigned':            \n            borough = []\n            neighborhoods_data=[]\n        else:\n            if neighborhoods == 'Not assigned':\n                neighborhoods = borough\n             \n            Postcode.append(postal_code)\n            Borough.append(borough)\n            Neighbourhood.append(neighborhoods)"
        }, 
        {
            "execution_count": 7, 
            "cell_type": "code", 
            "metadata": {}, 
            "outputs": [], 
            "source": "data=[]\n\nfor postcode_unique_element in set(Postcode):\n    post_value = ''\n    borough_value_var = ''\n    neighbourhood_value = ''\n    \n    for postcode_idx, postcode_element in enumerate(Postcode):\n        if postcode_unique_element == postcode_element:\n            post_value = postcode_element;\n            borough_value_var = Borough[postcode_idx]\n            \n            if neighbourhood_value == '': \n                neighbourhood_value = Neighbourhood[postcode_idx]\n            else:\n                neighbourhood_value = neighbourhood_value + ', ' + Neighbourhood[postcode_idx]\n    \n    data.append([post_value,borough_value_var,neighbourhood_value])\n\ndf = pd.DataFrame(np.array(data),columns=['PostalCode', 'Borough', 'Neighborhood'])"
        }, 
        {
            "execution_count": 8, 
            "cell_type": "code", 
            "metadata": {}, 
            "outputs": [
                {
                    "output_type": "stream", 
                    "name": "stdout", 
                    "text": "The geograpical coordinate of Toronto are 43.653963, -79.387207.\n"
                }
            ], 
            "source": "from geopy.geocoders import Nominatim # module to convert an address into latitude and longitude values\n\naddress = 'Toronto, CA'\n\ngeolocator = Nominatim(user_agent=\"ca_explorer\")\nlocation = geolocator.geocode(address)\nlatitude = location.latitude\nlongitude = location.longitude\nprint('The geograpical coordinate of Toronto are {}, {}.'.format(latitude, longitude))"
        }, 
        {
            "execution_count": null, 
            "cell_type": "code", 
            "metadata": {}, 
            "outputs": [
                {
                    "output_type": "stream", 
                    "name": "stdout", 
                    "text": "Solving environment: - "
                }
            ], 
            "source": "!conda install -c conda-forge folium=0.5.0 --yes \nimport folium # map rendering library\nfrom sklearn.cluster import KMeans"
        }, 
        {
            "execution_count": null, 
            "cell_type": "code", 
            "metadata": {}, 
            "outputs": [], 
            "source": "map = folium.Map(location=[latitude, longitude], zoom_start=11)\n\nX = df_join['Latitude']\nY = df_join['Longitude']\nZ = np.stack((X, Y), axis=1)\n\nkmeans = KMeans(n_clusters=4, random_state=0).fit(Z)\n\nclusters = kmeans.labels_\ncolors = ['red', 'green', 'blue', 'yellow']\ndf_join['Cluster'] = clusters\n\nfor latitude, longitude, borough, cluster in zip(df_join['Latitude'], df_join['Longitude'], df_join['Borough'], df_join['Cluster']):\n    label = folium.Popup(borough, parse_html=True)\n    folium.CircleMarker(\n        [latitude, longitude],\n        radius=5,\n        popup=label,\n        color='black',\n        fill=True,\n        fill_color=colors[cluster],\n        fill_opacity=0.7).add_to(map)  \n\nmap"
        }
    ], 
    "metadata": {
        "kernelspec": {
            "display_name": "Python 3.5", 
            "name": "python3", 
            "language": "python"
        }, 
        "language_info": {
            "mimetype": "text/x-python", 
            "nbconvert_exporter": "python", 
            "version": "3.5.5", 
            "name": "python", 
            "file_extension": ".py", 
            "pygments_lexer": "ipython3", 
            "codemirror_mode": {
                "version": 3, 
                "name": "ipython"
            }
        }
    }, 
    "nbformat": 4
}